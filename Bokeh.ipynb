{
 "cells": [
  {
   "cell_type": "markdown",
   "metadata": {},
   "source": [
    "Q1. How can you create a Bokeh plot using Python code?"
   ]
  },
  {
   "cell_type": "markdown",
   "metadata": {},
   "source": [
    "ANS = You can create a Bokeh plot using Python code by importing the necessary modules from the Bokeh library, defining your data, and then creating the desired plot using the provided functions and methods. Here's a basic example:"
   ]
  },
  {
   "cell_type": "code",
   "execution_count": null,
   "metadata": {},
   "outputs": [],
   "source": [
    "from bokeh.plotting import figure, show\n",
    "\n",
    "# Define data\n",
    "x = [1, 2, 3, 4, 5]\n",
    "y = [6, 7, 2, 4, 5]\n",
    "\n",
    "# Create a Bokeh figure\n",
    "p = figure(title=\"Example Bokeh Plot\", x_axis_label='X-axis', y_axis_label='Y-axis')\n",
    "\n",
    "# Add a line glyph to the plot\n",
    "p.line(x, y, legend_label=\"Line\", line_width=2)\n",
    "\n",
    "# Show the plot\n",
    "show(p)\n"
   ]
  },
  {
   "cell_type": "markdown",
   "metadata": {},
   "source": []
  },
  {
   "cell_type": "markdown",
   "metadata": {},
   "source": [
    "Q2. What are glyphs in Bokeh, and how can you add them to a Bokeh plot? Explain with an example."
   ]
  },
  {
   "cell_type": "markdown",
   "metadata": {},
   "source": [
    "ANS = Glyphs in Bokeh are visual markers such as lines, circles, squares, etc., that are used to represent data points or shapes on a plot. You can add glyphs to a Bokeh plot using the figure object's glyph methods like line, circle, square, etc. Here's an example of adding circles and a line to a plot:"
   ]
  },
  {
   "cell_type": "code",
   "execution_count": null,
   "metadata": {},
   "outputs": [],
   "source": [
    "from bokeh.plotting import figure, show\n",
    "\n",
    "# Define data\n",
    "x = [1, 2, 3, 4, 5]\n",
    "y = [6, 7, 2, 4, 5]\n",
    "\n",
    "# Create a Bokeh figure\n",
    "p = figure(title=\"Example Bokeh Plot\", x_axis_label='X-axis', y_axis_label='Y-axis')\n",
    "\n",
    "# Add circle glyphs to the plot\n",
    "p.circle(x, y, legend_label=\"Circles\", size=10, color=\"blue\", alpha=0.5)\n",
    "\n",
    "# Add a line glyph to the plot\n",
    "p.line(x, y, legend_label=\"Line\", line_width=2)\n",
    "\n",
    "# Show the plot\n",
    "show(p)\n"
   ]
  },
  {
   "cell_type": "markdown",
   "metadata": {},
   "source": [
    "Q3. How can you customize the appearance of a Bokeh plot, including the axes, title, and legend?"
   ]
  },
  {
   "cell_type": "markdown",
   "metadata": {},
   "source": [
    "ANS =  You can customize the appearance of a Bokeh plot by modifying various properties of the figure object, such as title, x_axis_label, y_axis_label, x_range, y_range, x_axis_type, y_axis_type, etc. Additionally, you can customize the appearance of glyphs, axes, title, and legend using various attributes and methods. Here's an example:"
   ]
  },
  {
   "cell_type": "code",
   "execution_count": null,
   "metadata": {},
   "outputs": [],
   "source": [
    "from bokeh.plotting import figure, show\n",
    "\n",
    "# Define data\n",
    "x = [1, 2, 3, 4, 5]\n",
    "y = [6, 7, 2, 4, 5]\n",
    "\n",
    "# Create a Bokeh figure with customized properties\n",
    "p = figure(title=\"Customized Bokeh Plot\", x_axis_label='X-axis', y_axis_label='Y-axis', \n",
    "           plot_width=600, plot_height=400, tools=\"pan,box_zoom,reset\")\n",
    "\n",
    "# Add circle glyphs to the plot with customized appearance\n",
    "p.circle(x, y, legend_label=\"Circles\", size=10, color=\"blue\", alpha=0.5)\n",
    "\n",
    "# Customize the appearance of axes, title, and legend\n",
    "p.title.text_font_size = \"18pt\"\n",
    "p.xaxis.axis_label_text_font_style = \"italic\"\n",
    "p.yaxis.axis_label_text_color = \"green\"\n",
    "p.legend.label_text_font = \"times\"\n",
    "\n",
    "# Show the plot\n",
    "show(p)\n"
   ]
  },
  {
   "cell_type": "markdown",
   "metadata": {},
   "source": [
    "Q4. What is a Bokeh server, and how can you use it to create interactive plots that can be updated in\n",
    "real time?"
   ]
  },
  {
   "cell_type": "markdown",
   "metadata": {},
   "source": [
    "ANS =   A Bokeh server is a way to create and deploy interactive Bokeh plots that can be updated in real-time. It allows you to define and update plots dynamically based on user interactions or data changes without needing to regenerate and redeploy the entire plot each time. You can use the Bokeh server by creating a Python script with Bokeh server capabilities and running it using the bokeh serve command. Here's a simple example:"
   ]
  },
  {
   "cell_type": "code",
   "execution_count": null,
   "metadata": {},
   "outputs": [],
   "source": [
    "# myapp.py\n",
    "from bokeh.plotting import figure, curdoc\n",
    "from bokeh.server.server import Server\n",
    "\n",
    "# Define data and create a Bokeh plot\n",
    "x = [1, 2, 3, 4, 5]\n",
    "y = [6, 7, 2, 4, 5]\n",
    "p = figure()\n",
    "line = p.line(x, y)\n",
    "\n",
    "# Function to update the plot data\n",
    "def update():\n",
    "    line.data_source.data['y'] = [val + 1 for val in line.data_source.data['y']]\n",
    "\n",
    "# Add periodic callback to update the plot every second\n",
    "curdoc().add_periodic_callback(update, 1000)\n",
    "\n",
    "# Create Bokeh server and start it\n",
    "server = Server({'/': p}, num_procs=1)\n",
    "server.start()\n",
    "server.io_loop.add_callback(server.show, \"/\")\n",
    "server.io_loop.start()\n"
   ]
  },
  {
   "cell_type": "markdown",
   "metadata": {},
   "source": [
    "Q5. How can you embed a Bokeh plot into a web page or dashboard using Flask or Django?"
   ]
  },
  {
   "cell_type": "markdown",
   "metadata": {},
   "source": [
    "ANS =  You can embed a Bokeh plot into a web page or dashboard using Flask or Django by rendering the Bokeh plot as a component within the HTML template of the web page. You can use the components function from Bokeh to generate the necessary JavaScript and HTML code for embedding the plot. Here's a basic example using Flask"
   ]
  }
 ],
 "metadata": {
  "kernelspec": {
   "display_name": "Python 3",
   "language": "python",
   "name": "python3"
  },
  "language_info": {
   "name": "python",
   "version": "3.10.12"
  }
 },
 "nbformat": 4,
 "nbformat_minor": 2
}
